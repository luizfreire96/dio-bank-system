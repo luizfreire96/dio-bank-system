{
 "cells": [
  {
   "cell_type": "code",
   "execution_count": 14,
   "metadata": {},
   "outputs": [
    {
     "ename": "SyntaxError",
     "evalue": "invalid syntax (191781599.py, line 27)",
     "output_type": "error",
     "traceback": [
      "\u001b[0;36m  Cell \u001b[0;32mIn[14], line 27\u001b[0;36m\u001b[0m\n\u001b[0;31m    statement = statement + \"Withdraw          -{}\".format(withdraw_value) + '\\n'                    total_withdraws += 1\u001b[0m\n\u001b[0m                                                                                                     ^\u001b[0m\n\u001b[0;31mSyntaxError\u001b[0m\u001b[0;31m:\u001b[0m invalid syntax\n"
     ]
    }
   ],
   "source": [
    "menu = '''\n",
    "\n",
    "[S] - Statement\n",
    "[W] - Withdraw\n",
    "[D] - Deposit\n",
    "[Q] - Quit\n",
    "\n",
    "'''\n",
    "\n",
    "balance = 1500\n",
    "withdraw_limit = 500\n",
    "total_withdraws = 0\n",
    "WITHDRAWS_LIMIT = 3\n",
    "statement =\"\"\n",
    "\n",
    "while True:\n",
    "    option = input(menu).upper()\n",
    "    if option in 'Q':\n",
    "        break\n",
    "\n",
    "    elif option == 'W':\n",
    "        if total_withdraws < 3:\n",
    "            withdraw_value = float(input('Withdraw value:'))\n",
    "            if withdraw_limit > withdraw_value and withdraw_value > 0:\n",
    "                balance = balance - withdraw_value\n",
    "                print('Your balance is {}'.format(balance))\n",
    "                statement = statement + \"Withdraw          -{}\".format(withdraw_value) + '\\n'   \n",
    "                total_withdraws += 1\n",
    "            else:\n",
    "                print(\"Invalid value\")\n",
    "        else:\n",
    "            print('You cannot withdraw anymore. You can withdraw only 3 times a month')\n",
    "\n",
    "    elif option == 'D':\n",
    "        deposit_value = float(input('Deposit value:'))\n",
    "        if deposit_value > 0:\n",
    "            balance = balance + deposit_value\n",
    "            print('Your balance is {}'.format(balance))\n",
    "            statement = statement + \"Deposit          {}\".format(withdraw_value) + '\\n'\n",
    "        else:\n",
    "            print('Invalid value')\n",
    "    \n",
    "    elif option == 'S':\n",
    "        print(statement + 'Balance            {}'.format(balance))\n",
    "    \n",
    "    else:\n",
    "        print('Invalid option')"
   ]
  },
  {
   "cell_type": "code",
   "execution_count": null,
   "metadata": {},
   "outputs": [],
   "source": []
  }
 ],
 "metadata": {
  "kernelspec": {
   "display_name": "Python 3",
   "language": "python",
   "name": "python3"
  },
  "language_info": {
   "codemirror_mode": {
    "name": "ipython",
    "version": 3
   },
   "file_extension": ".py",
   "mimetype": "text/x-python",
   "name": "python",
   "nbconvert_exporter": "python",
   "pygments_lexer": "ipython3",
   "version": "3.10.9"
  },
  "orig_nbformat": 4,
  "vscode": {
   "interpreter": {
    "hash": "767d51c1340bd893661ea55ea3124f6de3c7a262a8b4abca0554b478b1e2ff90"
   }
  }
 },
 "nbformat": 4,
 "nbformat_minor": 2
}
